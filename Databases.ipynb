{
 "cells": [
  {
   "cell_type": "code",
   "execution_count": 1,
   "metadata": {},
   "outputs": [
    {
     "name": "stdout",
     "output_type": "stream",
     "text": [
      "('2018-02-06', 'Utrecht', 'Red', 42.0, 15.14)\n",
      "0\n"
     ]
    }
   ],
   "source": [
    "import sqlite3\n",
    "\n",
    "with sqlite3.connect(\":memory:\") as con:\n",
    "    c = con.cursor()\n",
    "    c.execute('''CREATE TABLE sensors(date TEXT, \n",
    "                city TEXT, code TEXT, sensor_id REAL, temperature REAL);''')\n",
    "    c.execute(\"INSERT INTO sensors VALUES ('2018-02-06', 'Utrecht', 'Red', 42, 15.14)\")\n",
    "    c.execute(\"SELECT * FROM sensors\")\n",
    "    print(c.fetchone())\n",
    "    con.execute(\"DROP TABLE sensors\")\n",
    "    print(c.execute(\"SELECT COUNT(*) FROM sqlite_master WHERE type='table'\").fetchone()[0])\n",
    "    c.close()"
   ]
  },
  {
   "cell_type": "code",
   "execution_count": 3,
   "metadata": {},
   "outputs": [
    {
     "name": "stdout",
     "output_type": "stream",
     "text": [
      "ID =  1\n",
      "NAME =  Paul\n",
      "ADDRESS =  California\n",
      "SALARY =  20000.0 \n",
      "\n",
      "ID =  2\n",
      "NAME =  Allen\n",
      "ADDRESS =  Texas\n",
      "SALARY =  15000.0 \n",
      "\n"
     ]
    }
   ],
   "source": [
    "import sqlite3\n",
    "\n",
    "con = sqlite3.connect(\":memory:\")\n",
    "c = con.cursor()\n",
    "c.execute('''CREATE TABLE COMPANY\n",
    "       (ID INT PRIMARY KEY     NOT NULL,\n",
    "       NAME           TEXT    NOT NULL,\n",
    "       AGE            INT     NOT NULL,\n",
    "       ADDRESS        CHAR(50),\n",
    "       SALARY         REAL)''')\n",
    "c.execute(\"INSERT INTO COMPANY (ID,NAME,AGE,ADDRESS,SALARY) \\\n",
    "      VALUES (1, 'Paul', 32, 'California', 20000.00 )\")\n",
    "c.execute(\"INSERT INTO COMPANY (ID,NAME,AGE,ADDRESS,SALARY) \\\n",
    "      VALUES (2, 'Allen', 25, 'Texas', 15000.00 )\")\n",
    "cursor = c.execute(\"SELECT id, name, address, salary  from COMPANY\")\n",
    "for row in cursor:\n",
    "   print(\"ID = \", row[0])\n",
    "   print(\"NAME = \", row[1])\n",
    "   print(\"ADDRESS = \", row[2])\n",
    "   print(\"SALARY = \", row[3], \"\\n\")"
   ]
  },
  {
   "cell_type": "markdown",
   "metadata": {},
   "source": [
    "# Accessing database from Pandas"
   ]
  },
  {
   "cell_type": "code",
   "execution_count": 5,
   "metadata": {},
   "outputs": [],
   "source": [
    "import statsmodels.api as sm\n",
    "from pandas.io.sql import read_sql\n",
    "import sqlite3"
   ]
  },
  {
   "cell_type": "code",
   "execution_count": 7,
   "metadata": {},
   "outputs": [
    {
     "name": "stdout",
     "output_type": "stream",
     "text": [
      "[(1700.0, 5.0), (1701.0, 11.0), (1702.0, 16.0), (1703.0, 23.0), (1704.0, 36.0), (1705.0, 58.0), (1706.0, 29.0), (1707.0, 20.0), (1708.0, 10.0), (1709.0, 8.0), (1710.0, 3.0), (1711.0, 0.0), (1712.0, 0.0), (1713.0, 2.0), (1714.0, 11.0), (1715.0, 27.0), (1716.0, 47.0), (1717.0, 63.0), (1718.0, 60.0), (1719.0, 39.0), (1720.0, 28.0), (1721.0, 26.0), (1722.0, 22.0), (1723.0, 11.0), (1724.0, 21.0), (1725.0, 40.0), (1726.0, 78.0), (1727.0, 122.0), (1728.0, 103.0), (1729.0, 73.0), (1730.0, 47.0), (1731.0, 35.0), (1732.0, 11.0), (1733.0, 5.0), (1734.0, 16.0), (1735.0, 34.0), (1736.0, 70.0), (1737.0, 81.0), (1738.0, 111.0), (1739.0, 101.0), (1740.0, 73.0), (1741.0, 40.0), (1742.0, 20.0), (1743.0, 16.0), (1744.0, 5.0), (1745.0, 11.0), (1746.0, 22.0), (1747.0, 40.0), (1748.0, 60.0), (1749.0, 80.9), (1750.0, 83.4), (1751.0, 47.7), (1752.0, 47.8), (1753.0, 30.7), (1754.0, 12.2), (1755.0, 9.6), (1756.0, 10.2), (1757.0, 32.4), (1758.0, 47.6), (1759.0, 54.0), (1760.0, 62.9), (1761.0, 85.9), (1762.0, 61.2), (1763.0, 45.1), (1764.0, 36.4), (1765.0, 20.9), (1766.0, 11.4), (1767.0, 37.8), (1768.0, 69.8), (1769.0, 106.1), (1770.0, 100.8), (1771.0, 81.6), (1772.0, 66.5), (1773.0, 34.8), (1774.0, 30.6), (1775.0, 7.0), (1776.0, 19.8), (1777.0, 92.5), (1778.0, 154.4), (1779.0, 125.9), (1780.0, 84.8), (1781.0, 68.1), (1782.0, 38.5), (1783.0, 22.8), (1784.0, 10.2), (1785.0, 24.1), (1786.0, 82.9), (1787.0, 132.0), (1788.0, 130.9), (1789.0, 118.1), (1790.0, 89.9), (1791.0, 66.6), (1792.0, 60.0), (1793.0, 46.9), (1794.0, 41.0), (1795.0, 21.3), (1796.0, 16.0), (1797.0, 6.4), (1798.0, 4.1), (1799.0, 6.8), (1800.0, 14.5), (1801.0, 34.0), (1802.0, 45.0), (1803.0, 43.1), (1804.0, 47.5), (1805.0, 42.2), (1806.0, 28.1), (1807.0, 10.1), (1808.0, 8.1), (1809.0, 2.5), (1810.0, 0.0), (1811.0, 1.4), (1812.0, 5.0), (1813.0, 12.2), (1814.0, 13.9), (1815.0, 35.4), (1816.0, 45.8), (1817.0, 41.1), (1818.0, 30.1), (1819.0, 23.9), (1820.0, 15.6), (1821.0, 6.6), (1822.0, 4.0), (1823.0, 1.8), (1824.0, 8.5), (1825.0, 16.6), (1826.0, 36.3), (1827.0, 49.6), (1828.0, 64.2), (1829.0, 67.0), (1830.0, 70.9), (1831.0, 47.8), (1832.0, 27.5), (1833.0, 8.5), (1834.0, 13.2), (1835.0, 56.9), (1836.0, 121.5), (1837.0, 138.3), (1838.0, 103.2), (1839.0, 85.7), (1840.0, 64.6), (1841.0, 36.7), (1842.0, 24.2), (1843.0, 10.7), (1844.0, 15.0), (1845.0, 40.1), (1846.0, 61.5), (1847.0, 98.5), (1848.0, 124.7), (1849.0, 96.3), (1850.0, 66.6), (1851.0, 64.5), (1852.0, 54.1), (1853.0, 39.0), (1854.0, 20.6), (1855.0, 6.7), (1856.0, 4.3), (1857.0, 22.7), (1858.0, 54.8), (1859.0, 93.8), (1860.0, 95.8), (1861.0, 77.2), (1862.0, 59.1), (1863.0, 44.0), (1864.0, 47.0), (1865.0, 30.5), (1866.0, 16.3), (1867.0, 7.3), (1868.0, 37.6), (1869.0, 74.0), (1870.0, 139.0), (1871.0, 111.2), (1872.0, 101.6), (1873.0, 66.2), (1874.0, 44.7), (1875.0, 17.0), (1876.0, 11.3), (1877.0, 12.4), (1878.0, 3.4), (1879.0, 6.0), (1880.0, 32.3), (1881.0, 54.3), (1882.0, 59.7), (1883.0, 63.7), (1884.0, 63.5), (1885.0, 52.2), (1886.0, 25.4), (1887.0, 13.1), (1888.0, 6.8), (1889.0, 6.3), (1890.0, 7.1), (1891.0, 35.6), (1892.0, 73.0), (1893.0, 85.1), (1894.0, 78.0), (1895.0, 64.0), (1896.0, 41.8), (1897.0, 26.2), (1898.0, 26.7), (1899.0, 12.1), (1900.0, 9.5), (1901.0, 2.7), (1902.0, 5.0), (1903.0, 24.4), (1904.0, 42.0), (1905.0, 63.5), (1906.0, 53.8), (1907.0, 62.0), (1908.0, 48.5), (1909.0, 43.9), (1910.0, 18.6), (1911.0, 5.7), (1912.0, 3.6), (1913.0, 1.4), (1914.0, 9.6), (1915.0, 47.4), (1916.0, 57.1), (1917.0, 103.9), (1918.0, 80.6), (1919.0, 63.6), (1920.0, 37.6), (1921.0, 26.1), (1922.0, 14.2), (1923.0, 5.8), (1924.0, 16.7), (1925.0, 44.3), (1926.0, 63.9), (1927.0, 69.0), (1928.0, 77.8), (1929.0, 64.9), (1930.0, 35.7), (1931.0, 21.2), (1932.0, 11.1), (1933.0, 5.7), (1934.0, 8.7), (1935.0, 36.1), (1936.0, 79.7), (1937.0, 114.4), (1938.0, 109.6), (1939.0, 88.8), (1940.0, 67.8), (1941.0, 47.5), (1942.0, 30.6), (1943.0, 16.3), (1944.0, 9.6), (1945.0, 33.2), (1946.0, 92.6), (1947.0, 151.6), (1948.0, 136.3), (1949.0, 134.7), (1950.0, 83.9), (1951.0, 69.4), (1952.0, 31.5), (1953.0, 13.9), (1954.0, 4.4), (1955.0, 38.0), (1956.0, 141.7), (1957.0, 190.2), (1958.0, 184.8), (1959.0, 159.0), (1960.0, 112.3), (1961.0, 53.9), (1962.0, 37.6), (1963.0, 27.9), (1964.0, 10.2), (1965.0, 15.1), (1966.0, 47.0), (1967.0, 93.8), (1968.0, 105.9), (1969.0, 105.5), (1970.0, 104.5), (1971.0, 66.6), (1972.0, 68.9), (1973.0, 38.0), (1974.0, 34.5), (1975.0, 15.5), (1976.0, 12.6), (1977.0, 27.5), (1978.0, 92.5), (1979.0, 155.4), (1980.0, 154.6), (1981.0, 140.4), (1982.0, 115.9), (1983.0, 66.6), (1984.0, 45.9), (1985.0, 17.9), (1986.0, 13.4), (1987.0, 29.4), (1988.0, 100.2), (1989.0, 157.6), (1990.0, 142.6), (1991.0, 145.7), (1992.0, 94.3), (1993.0, 54.6), (1994.0, 29.9), (1995.0, 17.5), (1996.0, 8.6), (1997.0, 21.5), (1998.0, 64.3), (1999.0, 93.3), (2000.0, 119.6), (2001.0, 111.0), (2002.0, 104.0), (2003.0, 63.7), (2004.0, 40.4), (2005.0, 29.8), (2006.0, 15.2), (2007.0, 7.5), (2008.0, 2.9)]\n",
      "(309,)\n",
      "Deleted 217 rows\n"
     ]
    }
   ],
   "source": [
    "with sqlite3.connect(\":memory:\") as con:\n",
    "    c = con.cursor()\n",
    "    data_loader = sm.datasets.sunspots.load_pandas()\n",
    "    df = data_loader.data\n",
    "    rows = [tuple(x) for x in df.values]\n",
    "    print(rows)\n",
    "    \n",
    "    con.execute(\"CREATE TABLE sunspots(year, sunactivity)\")\n",
    "    con.executemany(\"INSERT INTO sunspots(year, sunactivity) VALUES (?,?)\", rows)\n",
    "    c.execute(\"SELECT COUNT(*) FROM sunspots\")\n",
    "    print(c.fetchone())\n",
    "    print(\"Deleted\", con.execute(\"DELETE FROM sunspots where sunactivity > 20\").rowcount, \"rows\")\n",
    "    \n",
    "    c.close()"
   ]
  },
  {
   "cell_type": "markdown",
   "metadata": {},
   "source": [
    "# SQLAlchemy"
   ]
  },
  {
   "cell_type": "code",
   "execution_count": 1,
   "metadata": {
    "collapsed": true
   },
   "outputs": [],
   "source": [
    "from sqlalchemy import Column, ForeignKey, Integer, String, Float\n",
    "from sqlalchemy.ext.declarative import declarative_base\n",
    "from sqlalchemy.orm import relationship\n",
    "from sqlalchemy import create_engine, UniqueConstraint"
   ]
  },
  {
   "cell_type": "code",
   "execution_count": 2,
   "metadata": {},
   "outputs": [
    {
     "data": {
      "text/plain": [
       "Table('sensor', MetaData(bind=None), Column('id', Integer(), table=<sensor>, primary_key=True, nullable=False), Column('observation', Integer(), table=<sensor>), Column('multiplier', Float(), table=<sensor>), Column('station_id', Integer(), ForeignKey('station.id'), table=<sensor>), schema=None)"
      ]
     },
     "execution_count": 2,
     "metadata": {},
     "output_type": "execute_result"
    }
   ],
   "source": [
    "Base = declarative_base()\n",
    "\n",
    "class Station(Base):\n",
    "    __tablename__ = 'station'\n",
    "    id = Column(Integer, primary_key=True)\n",
    "    name = Column(String(14), nullable=False, unique=True)\n",
    "    \n",
    "    def __repr__(self):\n",
    "        return \"Id=%d name=%s\" % (self.id, self.name)\n",
    "    \n",
    "class Sensor(Base):\n",
    "    __tablename__ = 'sensor'\n",
    "    id = Column(Integer, primary_key=True)\n",
    "    observation = Column(Integer)\n",
    "    multiplier = Column(Float)\n",
    "    station_id = Column(Integer, ForeignKey('station.id'))\n",
    "    station = relationship(Station)\n",
    "    \n",
    "    def __repr__(self):\n",
    "        return \"Id=%d oberservation=%d multiplier=%.1f station_id=%d\" % \\\n",
    "                (self.id, self.observation, self.multiplier, self.station_id)\n",
    "\n",
    "Sensor.__table__"
   ]
  },
  {
   "cell_type": "code",
   "execution_count": 3,
   "metadata": {},
   "outputs": [],
   "source": [
    "from sqlalchemy import create_engine\n",
    "from sqlalchemy.orm import sessionmaker\n",
    "import os\n",
    "from pandas.io.sql import read_sql\n",
    "\n",
    "def populate(session):\n",
    "    de_bilt = Station(name='De Bilt')\n",
    "    session.add(de_bilt)\n",
    "    session.add(Station(name='Utrecht'))\n",
    "    session.commit()\n",
    "    print(\"Station\", de_bilt)\n",
    "    \n",
    "    temp_sensor = Sensor(observation=20, multiplier=.1, station=de_bilt)\n",
    "    session.add(temp_sensor)\n",
    "    session.commit()\n",
    "    print(\"Sensor\", temp_sensor)"
   ]
  },
  {
   "cell_type": "code",
   "execution_count": 4,
   "metadata": {},
   "outputs": [
    {
     "data": {
      "text/plain": [
       "Table('station', MetaData(bind=None), Column('id', Integer(), table=<station>, primary_key=True, nullable=False), Column('name', String(length=14), table=<station>, nullable=False), schema=None)"
      ]
     },
     "execution_count": 4,
     "metadata": {},
     "output_type": "execute_result"
    }
   ],
   "source": [
    "Station.__table__"
   ]
  },
  {
   "cell_type": "code",
   "execution_count": 6,
   "metadata": {
    "scrolled": false
   },
   "outputs": [
    {
     "name": "stdout",
     "output_type": "stream",
     "text": [
      "2018-04-21 00:01:21,702 INFO sqlalchemy.engine.base.Engine SELECT CAST('test plain returns' AS VARCHAR(60)) AS anon_1\n",
      "2018-04-21 00:01:21,706 INFO sqlalchemy.engine.base.Engine ()\n",
      "2018-04-21 00:01:21,708 INFO sqlalchemy.engine.base.Engine SELECT CAST('test unicode returns' AS VARCHAR(60)) AS anon_1\n",
      "2018-04-21 00:01:21,711 INFO sqlalchemy.engine.base.Engine ()\n",
      "2018-04-21 00:01:21,714 INFO sqlalchemy.engine.base.Engine PRAGMA table_info(\"station\")\n",
      "2018-04-21 00:01:21,716 INFO sqlalchemy.engine.base.Engine ()\n",
      "2018-04-21 00:01:21,720 INFO sqlalchemy.engine.base.Engine PRAGMA table_info(\"sensor\")\n",
      "2018-04-21 00:01:21,723 INFO sqlalchemy.engine.base.Engine ()\n",
      "2018-04-21 00:01:21,727 INFO sqlalchemy.engine.base.Engine \n",
      "CREATE TABLE station (\n",
      "\tid INTEGER NOT NULL, \n",
      "\tname VARCHAR(14) NOT NULL, \n",
      "\tPRIMARY KEY (id), \n",
      "\tUNIQUE (name)\n",
      ")\n",
      "\n",
      "\n",
      "2018-04-21 00:01:21,731 INFO sqlalchemy.engine.base.Engine ()\n",
      "2018-04-21 00:01:21,737 INFO sqlalchemy.engine.base.Engine COMMIT\n",
      "2018-04-21 00:01:21,742 INFO sqlalchemy.engine.base.Engine \n",
      "CREATE TABLE sensor (\n",
      "\tid INTEGER NOT NULL, \n",
      "\tobservation INTEGER, \n",
      "\tmultiplier FLOAT, \n",
      "\tstation_id INTEGER, \n",
      "\tPRIMARY KEY (id), \n",
      "\tFOREIGN KEY(station_id) REFERENCES station (id)\n",
      ")\n",
      "\n",
      "\n",
      "2018-04-21 00:01:21,745 INFO sqlalchemy.engine.base.Engine ()\n",
      "2018-04-21 00:01:21,750 INFO sqlalchemy.engine.base.Engine COMMIT\n",
      "2018-04-21 00:01:21,756 INFO sqlalchemy.engine.base.Engine BEGIN (implicit)\n",
      "2018-04-21 00:01:21,759 INFO sqlalchemy.engine.base.Engine INSERT INTO station (name) VALUES (?)\n",
      "2018-04-21 00:01:21,762 INFO sqlalchemy.engine.base.Engine ('test',)\n",
      "2018-04-21 00:01:21,767 INFO sqlalchemy.engine.base.Engine SELECT station.id AS station_id, station.name AS station_name \n",
      "FROM station \n",
      "WHERE station.name = ?\n",
      " LIMIT ? OFFSET ?\n",
      "2018-04-21 00:01:21,769 INFO sqlalchemy.engine.base.Engine ('test', 1, 0)\n",
      "Id=1 name=test\n"
     ]
    }
   ],
   "source": [
    "engine = create_engine(\"sqlite:///test.db\", echo=True)\n",
    "Base.metadata.create_all(engine)\n",
    "#Base.metadata.bind = engine\n",
    "DBSession = sessionmaker(bind=engine)\n",
    "session = DBSession()\n",
    "station = Station(name='test')\n",
    "session.add(station)\n",
    "test_query = session.query(Station).filter_by(name='test').first() \n",
    "print(test_query)"
   ]
  },
  {
   "cell_type": "code",
   "execution_count": 7,
   "metadata": {},
   "outputs": [
    {
     "name": "stdout",
     "output_type": "stream",
     "text": [
      "2018-04-21 00:01:36,693 INFO sqlalchemy.engine.base.Engine INSERT INTO station (name) VALUES (?)\n",
      "2018-04-21 00:01:36,696 INFO sqlalchemy.engine.base.Engine ('De Bilt',)\n",
      "2018-04-21 00:01:36,699 INFO sqlalchemy.engine.base.Engine INSERT INTO station (name) VALUES (?)\n",
      "2018-04-21 00:01:36,702 INFO sqlalchemy.engine.base.Engine ('Utrecht',)\n",
      "2018-04-21 00:01:36,707 INFO sqlalchemy.engine.base.Engine COMMIT\n",
      "Station 2018-04-21 00:01:36,713 INFO sqlalchemy.engine.base.Engine BEGIN (implicit)\n",
      "2018-04-21 00:01:36,715 INFO sqlalchemy.engine.base.Engine SELECT station.id AS station_id, station.name AS station_name \n",
      "FROM station \n",
      "WHERE station.id = ?\n",
      "2018-04-21 00:01:36,717 INFO sqlalchemy.engine.base.Engine (2,)\n",
      "Id=2 name=De Bilt\n",
      "2018-04-21 00:01:36,725 INFO sqlalchemy.engine.base.Engine INSERT INTO sensor (observation, multiplier, station_id) VALUES (?, ?, ?)\n",
      "2018-04-21 00:01:36,728 INFO sqlalchemy.engine.base.Engine (20, 0.1, 2)\n",
      "2018-04-21 00:01:36,732 INFO sqlalchemy.engine.base.Engine COMMIT\n",
      "Sensor 2018-04-21 00:01:36,740 INFO sqlalchemy.engine.base.Engine BEGIN (implicit)\n",
      "2018-04-21 00:01:36,743 INFO sqlalchemy.engine.base.Engine SELECT sensor.id AS sensor_id, sensor.observation AS sensor_observation, sensor.multiplier AS sensor_multiplier, sensor.station_id AS sensor_station_id \n",
      "FROM sensor \n",
      "WHERE sensor.id = ?\n",
      "2018-04-21 00:01:36,746 INFO sqlalchemy.engine.base.Engine (1,)\n",
      "Id=1 oberservation=20 multiplier=0.1 station_id=2\n"
     ]
    }
   ],
   "source": [
    "populate(session)"
   ]
  },
  {
   "cell_type": "code",
   "execution_count": 8,
   "metadata": {},
   "outputs": [
    {
     "data": {
      "text/plain": [
       "True"
      ]
     },
     "execution_count": 8,
     "metadata": {},
     "output_type": "execute_result"
    }
   ],
   "source": [
    "test_query is station"
   ]
  },
  {
   "cell_type": "code",
   "execution_count": 9,
   "metadata": {},
   "outputs": [
    {
     "name": "stdout",
     "output_type": "stream",
     "text": [
      "2018-04-21 00:08:01,283 INFO sqlalchemy.engine.base.Engine SELECT station.id AS station_id, station.name AS station_name \n",
      "FROM station \n",
      "WHERE station.name = ?\n",
      " LIMIT ? OFFSET ?\n",
      "2018-04-21 00:08:01,286 INFO sqlalchemy.engine.base.Engine ('De Bilt', 1, 0)\n",
      "2018-04-21 00:08:01,291 INFO sqlalchemy.engine.base.Engine SELECT station.id AS station_id, station.name AS station_name \n",
      "FROM station\n",
      "2018-04-21 00:08:01,296 INFO sqlalchemy.engine.base.Engine ()\n",
      "[Id=1 name=test, Id=2 name=De Bilt, Id=3 name=Utrecht]\n",
      "2018-04-21 00:08:01,301 INFO sqlalchemy.engine.base.Engine SELECT sensor.id AS sensor_id, sensor.observation AS sensor_observation, sensor.multiplier AS sensor_multiplier, sensor.station_id AS sensor_station_id \n",
      "FROM sensor\n",
      "2018-04-21 00:08:01,303 INFO sqlalchemy.engine.base.Engine ()\n",
      "[Id=1 oberservation=20 multiplier=0.1 station_id=2]\n",
      "2018-04-21 00:08:01,309 INFO sqlalchemy.engine.base.Engine SELECT sensor.id AS sensor_id, sensor.observation AS sensor_observation, sensor.multiplier AS sensor_multiplier, sensor.station_id AS sensor_station_id \n",
      "FROM sensor \n",
      "WHERE ? = sensor.station_id\n",
      "2018-04-21 00:08:01,312 INFO sqlalchemy.engine.base.Engine (2,)\n",
      "Id=1 oberservation=20 multiplier=0.1 station_id=2\n",
      "   id     name\n",
      "0   1     test\n",
      "1   2  De Bilt\n",
      "2   3  Utrecht\n",
      "DB deleted\n"
     ]
    }
   ],
   "source": [
    "station_query = session.query(Station).filter_by(name='De Bilt').first()\n",
    "print(session.query(Station).all())\n",
    "print(session.query(Sensor).all())\n",
    "print(session.query(Sensor).filter(Sensor.station==station_query).one())\n",
    "print(read_sql(\"SELECT * FROM station\", engine.raw_connection()))\n",
    "\n",
    "try:\n",
    "    os.remove('test.db')\n",
    "    print('DB deleted')\n",
    "except OSError:\n",
    "    print('DB delete failed')"
   ]
  },
  {
   "cell_type": "code",
   "execution_count": null,
   "metadata": {
    "collapsed": true
   },
   "outputs": [],
   "source": []
  }
 ],
 "metadata": {
  "kernelspec": {
   "display_name": "Python 3",
   "language": "python",
   "name": "python3"
  },
  "language_info": {
   "codemirror_mode": {
    "name": "ipython",
    "version": 3
   },
   "file_extension": ".py",
   "mimetype": "text/x-python",
   "name": "python",
   "nbconvert_exporter": "python",
   "pygments_lexer": "ipython3",
   "version": "3.6.3"
  }
 },
 "nbformat": 4,
 "nbformat_minor": 2
}
